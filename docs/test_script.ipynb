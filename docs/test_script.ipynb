{
 "cells": [
  {
   "cell_type": "code",
   "execution_count": 1,
   "metadata": {},
   "outputs": [],
   "source": [
    "import geopandas as gpd\n",
    "import requests\n",
    "from PIL import Image\n",
    "import numpy as np\n",
    "import pandas as pd\n"
   ]
  },
  {
   "cell_type": "code",
   "execution_count": null,
   "metadata": {},
   "outputs": [],
   "source": [
    "\n",
    "# Wczytaj granice świata z pliku zip\n",
    "world = gpd.read_file(\"../ne_110m_admin_0_countries/ne_110m_admin_0_countries.shp\")\n",
    "\n",
    "poland = world[world['NAME'] == 'Poland']\n",
    "poland_merc = poland.to_crs(epsg=3857)\n",
    "xmin, ymin, xmax, ymax = poland_merc.total_bounds\n",
    "print(f\"{xmin=}, {ymin=}, {xmax=}, {ymax=}\")\n"
   ]
  },
  {
   "cell_type": "code",
   "execution_count": null,
   "metadata": {},
   "outputs": [],
   "source": [
    "xmin = 2322169\n",
    "ymin = 6744338\n",
    "xmax = 2407567\n",
    "ymax = 6844578\n",
    "bbox = f\"{xmin},{ymin},{xmax},{ymax}\"\n",
    "\n",
    "\n",
    "params = {\n",
    "    \"bbox\": bbox,\n",
    "    \"bboxSR\": \"102100\",     # EPSG:3857 (Web Mercator)\n",
    "    \"imageSR\": \"102100\",\n",
    "    \"size\": \"2048,2048\",    # rozdzielczość a\n",
    "    \"format\": \"png\",        # 'jpg', 'tiff'\n",
    "    \"f\": \"image\"\n",
    "}\n",
    "url = \"https://image.discomap.eea.europa.eu/arcgis/rest/services/Corine/CLC1990_WM/MapServer/export\"\n",
    "# 1990,2000,2006,2012,2018\n",
    "\n",
    "response = requests.get(url, params=params)\n",
    "\n",
    "with open(\"clc_warszawa_2012.png\", \"wb\") as f:\n",
    "    f.write(response.content)\n",
    "\n",
    "print(\"Obraz zapisany jako\")\n"
   ]
  },
  {
   "cell_type": "code",
   "execution_count": null,
   "metadata": {},
   "outputs": [],
   "source": [
    "\n",
    "img = Image.open(\"clc2018_polska.png\").convert(\"RGB\")\n",
    "img_array = np.array(img)\n",
    "\n",
    "height, width, _ = img_array.shape\n",
    "\n",
    "pixels = img_array.reshape(-1, 3)\n",
    "rows = np.repeat(np.arange(height), width)\n",
    "cols = np.tile(np.arange(width), height)\n",
    "\n",
    "df = pd.DataFrame({\n",
    "    'x': cols,\n",
    "    'y': rows,\n",
    "    'R': pixels[:, 0],\n",
    "    'G': pixels[:, 1],\n",
    "    'B': pixels[:, 2]\n",
    "})\n",
    "\n",
    "print(df)\n"
   ]
  },
  {
   "cell_type": "code",
   "execution_count": null,
   "metadata": {},
   "outputs": [],
   "source": [
    "# Mapa kolorów do klas \n",
    "color_to_clc = {\n",
    "    (230, 0, 77): '111 - Zabudowa ciągła',\n",
    "    (255, 0, 0): '112 - Zabudowa rozproszona',\n",
    "    (166, 0, 255): '121 - Obszary przemysłowe',\n",
    "    (255, 255, 100): '211 - Grunty orne',\n",
    "    (0, 255, 0): '313 - Lasy mieszane',\n",
    "    (0, 0, 255): '511 - Wody śródlądowe',\n",
    "    (0, 128, 0): '312 - Lasy liściaste',\n",
    "    (255, 255, 0): '222 - Uprawy trwałe',\n",
    "    (255, 245, 215): '331 - Piaski',\n",
    "}\n",
    "\n"
   ]
  },
  {
   "cell_type": "code",
   "execution_count": null,
   "metadata": {},
   "outputs": [],
   "source": [
    "\n",
    "df[\"rgb\"] = list(zip(df[\"R\"], df[\"G\"], df[\"B\"]))\n",
    "df['class'] = df['rgb'].map(color_to_clc).fillna('Nieznana')\n",
    "print(df[\"class\"].value_counts())\n",
    "\n",
    "class_counts = df[\"class\"].value_counts(normalize=True) * 100\n",
    "print(class_counts)\n"
   ]
  }
 ],
 "metadata": {
  "kernelspec": {
   "display_name": "Python 3",
   "language": "python",
   "name": "python3"
  },
  "language_info": {
   "codemirror_mode": {
    "name": "ipython",
    "version": 3
   },
   "file_extension": ".py",
   "mimetype": "text/x-python",
   "name": "python",
   "nbconvert_exporter": "python",
   "pygments_lexer": "ipython3",
   "version": "3.11.11"
  }
 },
 "nbformat": 4,
 "nbformat_minor": 2
}
